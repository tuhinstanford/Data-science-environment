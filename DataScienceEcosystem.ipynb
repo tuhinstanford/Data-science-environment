{
 "cells": [
  {
   "cell_type": "markdown",
   "id": "32f15c3d",
   "metadata": {},
   "source": [
    "<H1> Data Science Tools and Ecosystem"
   ]
  },
  {
   "cell_type": "markdown",
   "id": "16881a5e",
   "metadata": {},
   "source": [
    "In this notebook, Data Science Tools and Ecosystem are summarized."
   ]
  },
  {
   "cell_type": "markdown",
   "id": "020a6698",
   "metadata": {},
   "source": [
    "*Objectives\n",
    "+ How Python, R and other languages help in Data Science \n",
    "+ Commonly used libraries are Pandas, Numpy, Matplotlib in Python solves analytical problems and data visualization\n",
    "+ Free-open platform like JupyterNotebook and RStudio helps users in improving data science without any limits "
   ]
  },
  {
   "cell_type": "markdown",
   "id": "481c2e03",
   "metadata": {},
   "source": [
    "Some of the popular languages that Data Scientists use are:\n",
    "\n",
    "1. Python\n",
    "2. R\n",
    "3. Julia"
   ]
  },
  {
   "cell_type": "markdown",
   "id": "2d71b731",
   "metadata": {},
   "source": [
    "Some of the commonly used libraries used by Data Scientists include:\n",
    "\n",
    "1. Pandas\n",
    "2. Numpy\n",
    "3. Matplotlib"
   ]
  },
  {
   "cell_type": "markdown",
   "id": "c46cc474",
   "metadata": {},
   "source": [
    "|Data Science Tools|\n",
    "--------------------\n",
    "|JupyterNotebook|\n",
    "-----------------\n",
    "|RStudio|\n",
    "---------\n",
    "|TensorFlow|\n",
    "------------"
   ]
  },
  {
   "cell_type": "markdown",
   "id": "49f613aa",
   "metadata": {},
   "source": [
    "### Below are a few examples of evaluating arithmetic expressions in Python"
   ]
  },
  {
   "cell_type": "code",
   "execution_count": 3,
   "id": "ffa62809",
   "metadata": {},
   "outputs": [
    {
     "data": {
      "text/plain": [
       "17"
      ]
     },
     "execution_count": 3,
     "metadata": {},
     "output_type": "execute_result"
    }
   ],
   "source": [
    "# This a simple arithmetic expression to mutiply then add integers\n",
    "(3*4)+5"
   ]
  },
  {
   "cell_type": "code",
   "execution_count": 11,
   "id": "c2f23ece",
   "metadata": {},
   "outputs": [],
   "source": [
    "# This will convert 200 minutes to hours by diving by 60\n",
    "total_min=200\n",
    "total_hr=total_min/60\n",
    "total_hr:3.33"
   ]
  },
  {
   "cell_type": "markdown",
   "id": "4433aebb",
   "metadata": {},
   "source": [
    "## Author\n",
    "\n",
    "Tuhin Guha"
   ]
  }
 ],
 "metadata": {
  "kernelspec": {
   "display_name": "Python 3 (ipykernel)",
   "language": "python",
   "name": "python3"
  },
  "language_info": {
   "codemirror_mode": {
    "name": "ipython",
    "version": 3
   },
   "file_extension": ".py",
   "mimetype": "text/x-python",
   "name": "python",
   "nbconvert_exporter": "python",
   "pygments_lexer": "ipython3",
   "version": "3.9.12"
  }
 },
 "nbformat": 4,
 "nbformat_minor": 5
}
